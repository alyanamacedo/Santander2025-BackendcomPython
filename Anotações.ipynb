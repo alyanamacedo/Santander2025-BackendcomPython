{
 "cells": [
  {
   "cell_type": "markdown",
   "id": "fe2c93a2",
   "metadata": {},
   "source": [
    "## O que é o Jupyter Notebook?\n",
    "\n",
    "* É um ambiente que você dará os comandos para o computador\n",
    "* O computador irá respeitar a ordem dos comandos que você digitar\n",
    "\n",
    "## Atalhos úteis\n",
    "\n",
    "* Nova célula: B\n",
    "* Deletar célular: DD\n",
    "* Rodar o código: CTRL+ENTER ou SHIFT+ENTER\n",
    "* Transformar a célula em Markdown: M\n",
    "* Reverter a célula para código: Y"
   ]
  },
  {
   "cell_type": "code",
   "execution_count": null,
   "id": "f492424a",
   "metadata": {},
   "outputs": [
    {
     "name": "stdout",
     "output_type": "stream",
     "text": [
      "Meu nome é Alyana, tenho 39 anos, altura 1.63 e é True que sou mulher\n",
      "Meu\n"
     ]
    },
    {
     "data": {
      "text/plain": [
       "'caso eu queira\\nfazer comentários com \\nvárias linhas'"
      ]
     },
     "execution_count": 1,
     "metadata": {},
     "output_type": "execute_result"
    }
   ],
   "source": [
    "nome = 'Alyana' #string\n",
    "idade = 39 #integer\n",
    "altura = 1.63 #float\n",
    "mulher = True #boolean\n",
    "mensagem = f\"Meu nome é {nome}, tenho {idade} anos, altura {altura} e é {mulher} que sou mulher\"\n",
    "#print(\"Meu nome é \"+nome+\" e minha idade é \"+mulher) #esse modo só funciona com texto\n",
    "print(mensagem)\n",
    "print(mensagem[0:3])\n",
    "'''caso eu queira\n",
    "fazer comentários com \n",
    "várias linhas'''\n",
    "nome = input(\"Qual é o seu nome?\")\n",
    "print(f\"Olá {nome}\")"
   ]
  },
  {
   "cell_type": "markdown",
   "id": "1f926f88",
   "metadata": {},
   "source": [
    "## Executando o modo interativo do Python no terminal\n",
    "\n",
    "Existem duas formas de iniciar o modo interativo, chamando apenas o interpretador (python) ou executando o script com a flag -i (python -i app.py).\n",
    "\n",
    "|COMANDO|DESCRIÇÃO|\n",
    "| --- | --- |\n",
    "| `> python` | inicia o modo interativo do Python no terminal |\n",
    "| `> python -i app.py`| inicia o modo interativo do Python com o script `app.py` |\n",
    "| `> dir()` | retorna a lista de nomes no escopo local atual |\n",
    "| `> dir(100)`| com um argumento, retorna uma lista de atributos válidos para o objeto |\n",
    "| `> help()`| invoca o sistema de ajuda integrado |\n",
    "| `> help(100)`| é possível informar por parâmetro qual o nome do módulo, função, classe, método ou variável |"
   ]
  },
  {
   "cell_type": "markdown",
   "id": "dd22c5c6",
   "metadata": {},
   "source": [
    "## Tipos em Python\n",
    "\n",
    "|Label: | Os tipos built-in são: |\n",
    "|----------|----------|\n",
    "| Texto | str |\n",
    "| Numérico | int, float, complex |\n",
    "| Sequência | list, tuple, range |\n",
    "| Mapa | dict |\n",
    "| Coleção | set, fronzenset |\n",
    "| Booleano | bool |\n",
    "| Binário | bytes, butearray, memoryview |"
   ]
  },
  {
   "cell_type": "markdown",
   "id": "c23fbebc",
   "metadata": {},
   "source": [
    "## Variáveis e constantes"
   ]
  },
  {
   "cell_type": "code",
   "execution_count": null,
   "id": "e537d9a6",
   "metadata": {},
   "outputs": [],
   "source": [
    "# VARIÁVEIS\n",
    "age = 23\n",
    "name = 'Guilherme'\n",
    "print(f'Meu nome é {name} e eu tenho {age} ano(s) de idade.')\n",
    "#>>> Meu nome é Guilherme e eu tenho 23 ano(s) de idade.\n",
    "\n",
    "age, name = (23, 'Guilherme')\n",
    "print(f'Meu nome é {name} e eu tenho {age} ano(s) de idade.')\n",
    "#>>> Meu nome é Guilherme e eu tenho 23 ano(s) de idade.\n",
    "\n",
    "# CONSTANTES\n",
    "ABS_PATH = '/home/guilherme/Documents/python_course/'\n",
    "DEBUG = True\n",
    "STATES = [\n",
    "        'SP',\n",
    "        'RJ',\n",
    "        'MG',\n",
    "]\n",
    "AMOUNT = 30.2"
   ]
  },
  {
   "cell_type": "markdown",
   "id": "3b793cb3",
   "metadata": {},
   "source": [
    "## Função print\n",
    "\n",
    "> A função builtin print é utilizada quando queremos exibir dados na saída padrão (tela). Ela recebe um argumento obrigatório do tipo varargs de objetos e 4 argumentos opcionais (sep, end, file e flush). Todos os objetos são convertidos para string, separados por sep e terminados por end. A string final é exibida para o usuário."
   ]
  },
  {
   "cell_type": "code",
   "execution_count": null,
   "id": "521837d9",
   "metadata": {},
   "outputs": [],
   "source": [
    "nome = \"Guilherme\"\n",
    "sobrenome = \"Carvalho\"\n",
    "print(nome, sobrenome) #>>> Guilherme Carvalho\n",
    "print(nome, sobrenome, end=\"...\\n\") #>>> Guilherme Carvalho...\n",
    "print(nome, sobrenome, sep=\"#\") #>>> Guilherme#Carvalho"
   ]
  },
  {
   "cell_type": "markdown",
   "id": "94b73426",
   "metadata": {},
   "source": [
    "## Ordem operações matemáticas\n",
    "\n",
    "* Primeiro parênteses: ()\n",
    "* Depois exponenciação: **\n",
    "* Depois multiplicação: *\n",
    "* Depois divisão: / float     // inteiro     % resto\n",
    "* Depois soma: +\n",
    "* Depois subtração: -"
   ]
  },
  {
   "cell_type": "markdown",
   "id": "d533d289",
   "metadata": {},
   "source": [
    "## Operadores de comparação\n",
    "\n",
    "| Operador | Descrição |\n",
    "| --- | --- |\n",
    "| `==` | Igual a (comparação de valor) |\n",
    "| `!=` | Diferente de (comparação de valor) |\n",
    "| `===` | Igual a (comparação de valor e tipo) |\n",
    "| `!==` | Diferente de (comparação de valor e tipo) |\n",
    "| `>` `>=`| Maior que / maior ou igual a | \n",
    "| `<` `<=`| Menor que / menor ou igual a | "
   ]
  },
  {
   "cell_type": "markdown",
   "id": "2cf1bb5c",
   "metadata": {},
   "source": [
    "## Operadores de atribuição\n",
    "> São operadores utilizados para definir o valor inicial ou sobrescrever o valor de uma variável"
   ]
  },
  {
   "cell_type": "code",
   "execution_count": null,
   "id": "7f24a014",
   "metadata": {},
   "outputs": [],
   "source": [
    "saldo = 500\n",
    "saldo += 200 # adição\n",
    "saldo -= 100 # subtração\n",
    "saldo *= 2 # multiplicação\n",
    "saldo /= 2 # divisão normal\n",
    "saldo //= 2 # divisão inteira\n",
    "saldo %= 3 # módulo\n",
    "saldo **= 2 # exponenciação"
   ]
  },
  {
   "cell_type": "markdown",
   "id": "84865acc",
   "metadata": {},
   "source": [
    "## Operadores lógicos\n",
    "\n",
    "| Operador | Exemplo |\n",
    "| --- | --- |\n",
    "| `AND` | `a AND b` |\n",
    "| `OR` | `a OR b` |\n",
    "| `NOT` | `NOT a` |\t"
   ]
  },
  {
   "cell_type": "markdown",
   "id": "de9f3965",
   "metadata": {},
   "source": [
    "## Operadores de identidade\n",
    "> são operadores utilizados para comparar se os dois objetos testados ocupam a mesma posição na memória\n",
    "\n",
    "> `is` `is not`"
   ]
  },
  {
   "cell_type": "code",
   "execution_count": null,
   "id": "479e2d91",
   "metadata": {},
   "outputs": [],
   "source": [
    "curso = \"Curso de Python\"\n",
    "nome_curso = curso\n",
    "\n",
    "curso is nome_curso # verifica se são o mesmo objeto >>> True\n",
    "curso == nome_curso # verifica se são iguais >>> True\n",
    "curso is not nome_curso # verifica se não são o mesmo objeto >>> False"
   ]
  },
  {
   "cell_type": "markdown",
   "id": "bfeaed6f",
   "metadata": {},
   "source": [
    "## Operadores de associação\n",
    "> São operadores utilizados para verificar se um objeto está presente em uma sequência\n",
    "\n",
    "> `in` `not in`"
   ]
  },
  {
   "cell_type": "code",
   "execution_count": null,
   "id": "084b32b0",
   "metadata": {},
   "outputs": [],
   "source": [
    "curso = \"Curso de Python\"\n",
    "frutas = [\"maçã\", \"banana\", \"laranja\"]\n",
    "saques = [100, 200, 300]\n",
    "\n",
    "\"Python\" in curso # verifica se \"Python\" está em curso >>> True\n",
    "\"maçã\" not in frutas # verifica se \"maçã\" não está em frutas >>> False\n",
    "250 in saques # verifica se 250 está em saques >>> False"
   ]
  }
 ],
 "metadata": {
  "kernelspec": {
   "display_name": "Python 3",
   "language": "python",
   "name": "python3"
  },
  "language_info": {
   "codemirror_mode": {
    "name": "ipython",
    "version": 3
   },
   "file_extension": ".py",
   "mimetype": "text/x-python",
   "name": "python",
   "nbconvert_exporter": "python",
   "pygments_lexer": "ipython3",
   "version": "3.13.2"
  }
 },
 "nbformat": 4,
 "nbformat_minor": 5
}
